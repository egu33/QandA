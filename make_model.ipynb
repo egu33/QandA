{
  "nbformat": 4,
  "nbformat_minor": 0,
  "metadata": {
    "colab": {
      "name": "make_model.ipynb",
      "provenance": [],
      "collapsed_sections": [],
      "include_colab_link": true
    },
    "kernelspec": {
      "name": "python3",
      "display_name": "Python 3"
    },
    "accelerator": "GPU"
  },
  "cells": [
    {
      "cell_type": "markdown",
      "metadata": {
        "id": "view-in-github",
        "colab_type": "text"
      },
      "source": [
        "<a href=\"https://colab.research.google.com/github/egu33/QandA/blob/master/make_model.ipynb\" target=\"_parent\"><img src=\"https://colab.research.google.com/assets/colab-badge.svg\" alt=\"Open In Colab\"/></a>"
      ]
    },
    {
      "cell_type": "markdown",
      "metadata": {
        "id": "HWC_y_52fJZ2",
        "colab_type": "text"
      },
      "source": [
        "# モデルの訓練と保存\n"
      ]
    },
    {
      "cell_type": "markdown",
      "metadata": {
        "id": "3is6apnw8SIr",
        "colab_type": "text"
      },
      "source": [
        "#### バージョンの確認\n",
        "\n"
      ]
    },
    {
      "cell_type": "code",
      "metadata": {
        "id": "r3StnqCjarNc",
        "colab_type": "code",
        "colab": {
          "base_uri": "https://localhost:8080/",
          "height": 68
        },
        "outputId": "3fb4f322-dd88-4b29-cc82-011c5d8c8e74"
      },
      "source": [
        "import tensorflow\n",
        "import keras\n",
        "print(tensorflow.__version__)\n",
        "print(keras.__version__)"
      ],
      "execution_count": 2,
      "outputs": [
        {
          "output_type": "stream",
          "text": [
            "2.2.0\n",
            "2.3.1\n"
          ],
          "name": "stdout"
        },
        {
          "output_type": "stream",
          "text": [
            "Using TensorFlow backend.\n"
          ],
          "name": "stderr"
        }
      ]
    },
    {
      "cell_type": "markdown",
      "metadata": {
        "id": "0FIYhgn1BpyO",
        "colab_type": "text"
      },
      "source": [
        "## 訓練データの読み込み\n",
        "cifar-10の読み込み。\n",
        "cifer-10・・・約6万枚の画像を抽出してラベル付けしたデータセット\n"
      ]
    },
    {
      "cell_type": "code",
      "metadata": {
        "id": "QwMz5s5MBooV",
        "colab_type": "code",
        "colab": {
          "base_uri": "https://localhost:8080/",
          "height": 51
        },
        "outputId": "52ca75e9-7009-4e75-ac59-00056295437f"
      },
      "source": [
        "import numpy as np\n",
        "import matplotlib.pyplot as plt\n",
        "import keras\n",
        "from keras.datasets import cifar10 # kerasのdatasetsからcifer-10をインポート\n",
        "from keras.preprocessing.image import ImageDataGenerator #データ拡張のためImageDataGeneratorをインポート\n",
        "\n",
        "(x_train, t_train), (x_test, t_test) = cifar10.load_data() #cifer-10を読み込み訓練用とテスト用に分割"
      ],
      "execution_count": 3,
      "outputs": [
        {
          "output_type": "stream",
          "text": [
            "Downloading data from https://www.cs.toronto.edu/~kriz/cifar-10-python.tar.gz\n",
            "170500096/170498071 [==============================] - 6s 0us/step\n"
          ],
          "name": "stdout"
        }
      ]
    },
    {
      "cell_type": "markdown",
      "metadata": {
        "id": "_GML0CyffsvW",
        "colab_type": "text"
      },
      "source": [
        "## モデルの構築\n",
        "CNNのモデルを構築"
      ]
    },
    {
      "cell_type": "code",
      "metadata": {
        "id": "z9falW8GgKUt",
        "colab_type": "code",
        "colab": {
          "base_uri": "https://localhost:8080/",
          "height": 697
        },
        "outputId": "c5dfc9a5-e9f1-43f3-c6f7-7d0fee986283"
      },
      "source": [
        "from keras.models import Sequential\n",
        "from keras.layers import Dense, Dropout, Activation, Flatten\n",
        "from keras.layers import Conv2D, MaxPooling2D\n",
        "from keras.optimizers import Adam\n",
        "\n",
        "batch_size = 32\n",
        "epochs = 20\n",
        "n_class = 10\n",
        "\n",
        "t_train = keras.utils.to_categorical(t_train, n_class)  # one-hot表現に\n",
        "t_test = keras.utils.to_categorical(t_test, n_class)\n",
        "\n",
        "model = Sequential()\n",
        "\n",
        "model.add(Conv2D(32, (3, 3), padding=\"same\", input_shape=x_train.shape[1:]))  # ゼロパディング、バッチサイズ以外の画像の形状を指定\n",
        "model.add(Activation(\"relu\"))\n",
        "model.add(Conv2D(32, (3, 3)))\n",
        "model.add(Activation(\"relu\"))\n",
        "model.add(MaxPooling2D(pool_size=(2, 2)))\n",
        "\n",
        "model.add(Conv2D(64, (3, 3), padding=\"same\"))\n",
        "model.add(Activation(\"relu\"))\n",
        "model.add(Conv2D(64, (3, 3)))\n",
        "model.add(Activation(\"relu\"))\n",
        "model.add(MaxPooling2D(pool_size=(2, 2)))\n",
        "\n",
        "model.add(Flatten())  # 一次元の配列に変換\n",
        "model.add(Dense(256))\n",
        "model.add(Activation(\"relu\"))\n",
        "model.add(Dropout(0.5))  # ドロップアウト\n",
        "model.add(Dense(n_class))\n",
        "model.add(Activation(\"softmax\"))\n",
        "\n",
        "model.compile(optimizer=Adam(), loss=\"categorical_crossentropy\", metrics=[\"accuracy\"])\n",
        "model.summary()"
      ],
      "execution_count": 4,
      "outputs": [
        {
          "output_type": "stream",
          "text": [
            "Model: \"sequential_1\"\n",
            "_________________________________________________________________\n",
            "Layer (type)                 Output Shape              Param #   \n",
            "=================================================================\n",
            "conv2d_1 (Conv2D)            (None, 32, 32, 32)        896       \n",
            "_________________________________________________________________\n",
            "activation_1 (Activation)    (None, 32, 32, 32)        0         \n",
            "_________________________________________________________________\n",
            "conv2d_2 (Conv2D)            (None, 30, 30, 32)        9248      \n",
            "_________________________________________________________________\n",
            "activation_2 (Activation)    (None, 30, 30, 32)        0         \n",
            "_________________________________________________________________\n",
            "max_pooling2d_1 (MaxPooling2 (None, 15, 15, 32)        0         \n",
            "_________________________________________________________________\n",
            "conv2d_3 (Conv2D)            (None, 15, 15, 64)        18496     \n",
            "_________________________________________________________________\n",
            "activation_3 (Activation)    (None, 15, 15, 64)        0         \n",
            "_________________________________________________________________\n",
            "conv2d_4 (Conv2D)            (None, 13, 13, 64)        36928     \n",
            "_________________________________________________________________\n",
            "activation_4 (Activation)    (None, 13, 13, 64)        0         \n",
            "_________________________________________________________________\n",
            "max_pooling2d_2 (MaxPooling2 (None, 6, 6, 64)          0         \n",
            "_________________________________________________________________\n",
            "flatten_1 (Flatten)          (None, 2304)              0         \n",
            "_________________________________________________________________\n",
            "dense_1 (Dense)              (None, 256)               590080    \n",
            "_________________________________________________________________\n",
            "activation_5 (Activation)    (None, 256)               0         \n",
            "_________________________________________________________________\n",
            "dropout_1 (Dropout)          (None, 256)               0         \n",
            "_________________________________________________________________\n",
            "dense_2 (Dense)              (None, 10)                2570      \n",
            "_________________________________________________________________\n",
            "activation_6 (Activation)    (None, 10)                0         \n",
            "=================================================================\n",
            "Total params: 658,218\n",
            "Trainable params: 658,218\n",
            "Non-trainable params: 0\n",
            "_________________________________________________________________\n"
          ],
          "name": "stdout"
        }
      ]
    },
    {
      "cell_type": "markdown",
      "metadata": {
        "id": "BNwSRbYZidMT",
        "colab_type": "text"
      },
      "source": [
        "## 学習\n",
        "モデルを訓練する。  \n",
        "ImageDataGeneratorを使用する際は、学習にfit_generatorメソッドを使う。  \n",
        "データ拡張を設定し訓練をする\n"
      ]
    },
    {
      "cell_type": "code",
      "metadata": {
        "id": "hIvqzD6igv22",
        "colab_type": "code",
        "colab": {
          "base_uri": "https://localhost:8080/",
          "height": 697
        },
        "outputId": "253308b3-19fb-449b-ad90-2e4fb0e56d3e"
      },
      "source": [
        "x_train = x_train / 255  # 0から1の範囲に収める\n",
        "x_test = x_test / 255\n",
        "\n",
        "generator = ImageDataGenerator(\n",
        "           rotation_range=0.2, # 回転\n",
        "           width_shift_range=0.2, # 横方向へのシフト\n",
        "           height_shift_range=0.2, # 縦方向へのシフト\n",
        "           shear_range=10, # 剪断\n",
        "           zoom_range=0.2, # ズームの範囲\n",
        "           horizontal_flip=True)\n",
        "generator.fit(x_train)\n",
        "\n",
        "history = model.fit_generator(generator.flow(x_train, t_train, batch_size=batch_size),\n",
        "                              epochs=epochs,\n",
        "                              validation_data=(x_test, t_test))"
      ],
      "execution_count": 5,
      "outputs": [
        {
          "output_type": "stream",
          "text": [
            "Epoch 1/20\n",
            "1563/1563 [==============================] - 52s 33ms/step - loss: 1.7559 - accuracy: 0.3510 - val_loss: 1.3697 - val_accuracy: 0.5057\n",
            "Epoch 2/20\n",
            "1563/1563 [==============================] - 46s 29ms/step - loss: 1.4562 - accuracy: 0.4719 - val_loss: 1.1898 - val_accuracy: 0.5707\n",
            "Epoch 3/20\n",
            "1563/1563 [==============================] - 46s 29ms/step - loss: 1.3214 - accuracy: 0.5260 - val_loss: 1.1556 - val_accuracy: 0.5858\n",
            "Epoch 4/20\n",
            "1563/1563 [==============================] - 46s 29ms/step - loss: 1.2289 - accuracy: 0.5619 - val_loss: 1.1534 - val_accuracy: 0.5951\n",
            "Epoch 5/20\n",
            "1563/1563 [==============================] - 46s 29ms/step - loss: 1.1674 - accuracy: 0.5892 - val_loss: 1.0869 - val_accuracy: 0.6223\n",
            "Epoch 6/20\n",
            "1563/1563 [==============================] - 45s 29ms/step - loss: 1.1172 - accuracy: 0.6061 - val_loss: 0.9935 - val_accuracy: 0.6545\n",
            "Epoch 7/20\n",
            "1563/1563 [==============================] - 46s 29ms/step - loss: 1.0827 - accuracy: 0.6193 - val_loss: 0.8609 - val_accuracy: 0.7002\n",
            "Epoch 8/20\n",
            "1563/1563 [==============================] - 46s 29ms/step - loss: 1.0520 - accuracy: 0.6331 - val_loss: 1.0025 - val_accuracy: 0.6562\n",
            "Epoch 9/20\n",
            "1563/1563 [==============================] - 46s 29ms/step - loss: 1.0214 - accuracy: 0.6425 - val_loss: 0.8386 - val_accuracy: 0.7105\n",
            "Epoch 10/20\n",
            "1563/1563 [==============================] - 46s 29ms/step - loss: 1.0007 - accuracy: 0.6510 - val_loss: 0.8439 - val_accuracy: 0.7015\n",
            "Epoch 11/20\n",
            "1563/1563 [==============================] - 46s 29ms/step - loss: 0.9796 - accuracy: 0.6587 - val_loss: 0.8938 - val_accuracy: 0.6887\n",
            "Epoch 12/20\n",
            "1563/1563 [==============================] - 46s 29ms/step - loss: 0.9582 - accuracy: 0.6677 - val_loss: 0.7959 - val_accuracy: 0.7225\n",
            "Epoch 13/20\n",
            "1563/1563 [==============================] - 46s 29ms/step - loss: 0.9505 - accuracy: 0.6713 - val_loss: 0.8282 - val_accuracy: 0.7244\n",
            "Epoch 14/20\n",
            "1563/1563 [==============================] - 46s 29ms/step - loss: 0.9366 - accuracy: 0.6760 - val_loss: 0.8666 - val_accuracy: 0.7124\n",
            "Epoch 15/20\n",
            "1563/1563 [==============================] - 46s 29ms/step - loss: 0.9207 - accuracy: 0.6807 - val_loss: 0.8175 - val_accuracy: 0.7110\n",
            "Epoch 16/20\n",
            "1563/1563 [==============================] - 46s 29ms/step - loss: 0.9098 - accuracy: 0.6851 - val_loss: 0.7787 - val_accuracy: 0.7363\n",
            "Epoch 17/20\n",
            "1563/1563 [==============================] - 46s 29ms/step - loss: 0.9086 - accuracy: 0.6851 - val_loss: 0.8559 - val_accuracy: 0.7081\n",
            "Epoch 18/20\n",
            "1563/1563 [==============================] - 45s 29ms/step - loss: 0.9021 - accuracy: 0.6894 - val_loss: 0.7993 - val_accuracy: 0.7295\n",
            "Epoch 19/20\n",
            "1563/1563 [==============================] - 45s 29ms/step - loss: 0.8951 - accuracy: 0.6923 - val_loss: 0.7836 - val_accuracy: 0.7362\n",
            "Epoch 20/20\n",
            "1563/1563 [==============================] - 46s 29ms/step - loss: 0.8807 - accuracy: 0.6968 - val_loss: 0.8475 - val_accuracy: 0.7190\n"
          ],
          "name": "stdout"
        }
      ]
    },
    {
      "cell_type": "markdown",
      "metadata": {
        "id": "_d9XJ2Z4i3T5",
        "colab_type": "text"
      },
      "source": [
        "## 学習の推移\n",
        "学習の推移を表示。  \n",
        "検証用"
      ]
    },
    {
      "cell_type": "code",
      "metadata": {
        "id": "HHPX-bi9i3mi",
        "colab_type": "code",
        "colab": {
          "base_uri": "https://localhost:8080/",
          "height": 517
        },
        "outputId": "7c8fad79-82f9-45dd-cb11-f055eee55fb3"
      },
      "source": [
        "import matplotlib.pyplot as plt\n",
        "\n",
        "train_loss = history.history[\"loss\"]  # 訓練用データの誤差\n",
        "train_acc = history.history[\"accuracy\"]  # 訓練用データの精度\n",
        "val_loss = history.history[\"val_loss\"]  # 検証用データの誤差\n",
        "val_acc = history.history[\"val_accuracy\"]  # 検証用データの精度\n",
        "\n",
        "plt.plot(np.arange(len(train_loss)), train_loss, label=\"loss\")\n",
        "plt.plot(np.arange(len(val_loss)), val_loss, label=\"val_loss\")\n",
        "plt.legend()\n",
        "plt.show()\n",
        "\n",
        "plt.plot(np.arange(len(train_acc)), train_acc, label=\"accuracy\")\n",
        "plt.plot(np.arange(len(val_acc)), val_acc, label=\"val_acc\")\n",
        "plt.legend()\n",
        "plt.show()"
      ],
      "execution_count": 8,
      "outputs": [
        {
          "output_type": "display_data",
          "data": {
            "image/png": "[encoded data removed]",
            "text/plain": [
              "<Figure size 432x288 with 1 Axes>"
            ]
          },
          "metadata": {
            "tags": [],
            "needs_background": "light"
          }
        },
        {
          "output_type": "display_data",
          "data": {
            "image/png": "[encoded data removed]",
            "text/plain": [
              "<Figure size 432x288 with 1 Axes>"
            ]
          },
          "metadata": {
            "tags": [],
            "needs_background": "light"
          }
        }
      ]
    },
    {
      "cell_type": "markdown",
      "metadata": {
        "id": "ISqlD6lWxd5P",
        "colab_type": "text"
      },
      "source": [
        "## 評価\n",
        "モデルの評価。  \n",
        "結果が未知のデータを予測するため\n",
        "\n",
        "Accuracyは評価対象事例全てに対して, 正しく分類できた割合を意味する指標"
      ]
    },
    {
      "cell_type": "code",
      "metadata": {
        "id": "NOAFpJH4xeLH",
        "colab_type": "code",
        "colab": {
          "base_uri": "https://localhost:8080/",
          "height": 51
        },
        "outputId": "b2f065b7-2fb7-4f1b-9cc5-63b34e71eefc"
      },
      "source": [
        "loss, accuracy = model.evaluate(x_test, t_test)\n",
        "print(loss, accuracy)"
      ],
      "execution_count": 9,
      "outputs": [
        {
          "output_type": "stream",
          "text": [
            "10000/10000 [==============================] - 2s 171us/step\n",
            "0.8475478176116943 0.718999981880188\n"
          ],
          "name": "stdout"
        }
      ]
    },
    {
      "cell_type": "markdown",
      "metadata": {
        "id": "4jfcSh93hxWt",
        "colab_type": "text"
      },
      "source": [
        "## モデルの保存とダウンロード\n",
        "モデルを保存しダウンロード。"
      ]
    },
    {
      "cell_type": "code",
      "metadata": {
        "id": "yv-Rxwn5jhQM",
        "colab_type": "code",
        "colab": {}
      },
      "source": [
        "from google.colab import files\n",
        "\n",
        "model.save(\"image_classifier.h5\",  include_optimizer=False)\n",
        "files.download(\"image_classifier.h5\")"
      ],
      "execution_count": 11,
      "outputs": []
    },
    {
      "cell_type": "code",
      "metadata": {
        "id": "Zc18mGdfWqvy",
        "colab_type": "code",
        "colab": {
          "base_uri": "https://localhost:8080/",
          "height": 122
        },
        "outputId": "3dcb2d47-d577-4065-c1c3-490ec2fbbdd3"
      },
      "source": [
        "from google.colab import drive\n",
        "drive.mount('/content/drive')"
      ],
      "execution_count": null,
      "outputs": [
        {
          "output_type": "stream",
          "text": [
            "Go to this URL in a browser: https://accounts.google.com/o/oauth2/auth?client_id=947318989803-6bn6qk8qdgf4n4g3pfee6491hc0brc4i.apps.googleusercontent.com&redirect_uri=urn%3aietf%3awg%3aoauth%3a2.0%3aoob&response_type=code&scope=email%20https%3a%2f%2fwww.googleapis.com%2fauth%2fdocs.test%20https%3a%2f%2fwww.googleapis.com%2fauth%2fdrive%20https%3a%2f%2fwww.googleapis.com%2fauth%2fdrive.photos.readonly%20https%3a%2f%2fwww.googleapis.com%2fauth%2fpeopleapi.readonly\n",
            "\n",
            "Enter your authorization code:\n",
            "··········\n",
            "Mounted at /content/drive\n"
          ],
          "name": "stdout"
        }
      ]
    }
  ]
}